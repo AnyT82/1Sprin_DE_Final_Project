{
 "cells": [
  {
   "cell_type": "code",
   "execution_count": 1,
   "id": "ad8f4a67",
   "metadata": {},
   "outputs": [],
   "source": [
    "#скрипт для начальной загрузки данных\n",
    "\n",
    "import os\n",
    "import requests\n",
    "import csv\n",
    "import pandas\n",
    "import time\n",
    "import datetime\n",
    "import sqlalchemy"
   ]
  },
  {
   "cell_type": "code",
   "execution_count": null,
   "id": "cd71fb45",
   "metadata": {},
   "outputs": [],
   "source": [
    "#если не установлен адаптер ibm_db необходимо выполнить !pip install ibm_db \n",
    "#задаем данные для подключения к облачному серверу ibm -  Db2 hostname, username, and password\n",
    "#задаем dsn connection string\n",
    "#создаем соединение с базой данных"
   ]
  },
  {
   "cell_type": "code",
   "execution_count": 2,
   "id": "9a46254a",
   "metadata": {},
   "outputs": [
    {
     "name": "stdout",
     "output_type": "stream",
     "text": [
      "Connected to database:  BLUDB as user:  spz10162 on host:  0c77d6f2-5da9-48a9-81f8-86b520b87518.bs2io90l08kqb1od8lcg.databases.appdomain.cloud\n"
     ]
    }
   ],
   "source": [
    "import ibm_db\n",
    "import ibm_db_dbi\n",
    "\n",
    "dsn_hostname = \"0c77d6f2-5da9-48a9-81f8-86b520b87518.bs2io90l08kqb1od8lcg.databases.appdomain.cloud\" \n",
    "dsn_uid = \"*****\"        \n",
    "dsn_pwd = \"*****\"      \n",
    "\n",
    "dsn_driver = \"{IBM DB2 ODBC DRIVER}\"\n",
    "dsn_database = \"BLUDB\"            \n",
    "dsn_port = \"31198\"                 \n",
    "dsn_protocol = \"TCPIP\"           \n",
    "dsn_security = \"SSL\"             \n",
    "\n",
    "dsn = (\n",
    "    \"DRIVER={0};\"\n",
    "    \"DATABASE={1};\"\n",
    "    \"HOSTNAME={2};\"\n",
    "    \"PORT={3};\"\n",
    "    \"PROTOCOL={4};\"\n",
    "    \"UID={5};\"\n",
    "    \"PWD={6};\"\n",
    "    \"SECURITY={7};\").format(dsn_driver, dsn_database, dsn_hostname, dsn_port, dsn_protocol, dsn_uid, dsn_pwd,dsn_security)\n",
    "\n",
    "try:\n",
    "    conn = ibm_db.connect(dsn, \"\", \"\")\n",
    "    print (\"Connected to database: \", dsn_database, \"as user: \", dsn_uid, \"on host: \", dsn_hostname)\n",
    "\n",
    "except:\n",
    "    print (\"Unable to connect: \", ibm_db.conn_errormsg() )\n"
   ]
  },
  {
   "cell_type": "code",
   "execution_count": null,
   "id": "77f4afb4",
   "metadata": {},
   "outputs": [],
   "source": [
    "# загружаем Python Magic for SQL (если не установлен необходимо выполнить !pip install ipython-sql, !pip install sqlalchemy )\n",
    "# загружаем библиотеку для работы с облачной базой данных ibm\n",
    "# загружаем IBM_DB_SA adapter для Python/SQLAlchemy interface to IBM Data Servers \n",
    "# если не установлен необходимо выполнить !pip install ibm_db_sa ( https://github.com/ibmdb/python-ibmdbsa)   "
   ]
  },
  {
   "cell_type": "code",
   "execution_count": 3,
   "id": "2b7f7c84",
   "metadata": {},
   "outputs": [],
   "source": [
    "%load_ext sql\n",
    "\n",
    "import ibm_db_sa\n",
    "from sqlalchemy import *\n",
    "\n",
    "%sql ibm_db_sa://spz10162:*****@0c77d6f2-5da9-48a9-81f8-86b520b87518.bs2io90l08kqb1od8lcg.databases.appdomain.cloud:31198/BLUDB;security=SSL;\n",
    "\n",
    "SQLALCHEMY_DATABASE_URI = 'ibm_db_sa://spz10162:*****@0c77d6f2-5da9-48a9-81f8-86b520b87518.bs2io90l08kqb1od8lcg.databases.appdomain.cloud:31198/BLUDB;security=SSL;'\n",
    "engine = create_engine(SQLALCHEMY_DATABASE_URI, echo=False)\n",
    "                        "
   ]
  },
  {
   "cell_type": "code",
   "execution_count": 4,
   "id": "6c7a9942",
   "metadata": {},
   "outputs": [
    {
     "name": "stdout",
     "output_type": "stream",
     "text": [
      " * ibm_db_sa://spz10162:***@0c77d6f2-5da9-48a9-81f8-86b520b87518.bs2io90l08kqb1od8lcg.databases.appdomain.cloud:31198/BLUDB;security=SSL;\n",
      "Done.\n"
     ]
    },
    {
     "data": {
      "text/plain": [
       "[]"
      ]
     },
     "execution_count": 4,
     "metadata": {},
     "output_type": "execute_result"
    }
   ],
   "source": [
    " %sql DROP TABLE finance_instrument;"
   ]
  },
  {
   "cell_type": "code",
   "execution_count": null,
   "id": "6f234bb5",
   "metadata": {},
   "outputs": [],
   "source": [
    "#создаем таблицу финансовых инструментов, необходимых для сбора данных и построения витрины"
   ]
  },
  {
   "cell_type": "code",
   "execution_count": 6,
   "id": "79724fb6",
   "metadata": {},
   "outputs": [
    {
     "name": "stdout",
     "output_type": "stream",
     "text": [
      " * ibm_db_sa://spz10162:***@0c77d6f2-5da9-48a9-81f8-86b520b87518.bs2io90l08kqb1od8lcg.databases.appdomain.cloud:31198/BLUDB;security=SSL;\n",
      "Done.\n",
      "5 rows affected.\n"
     ]
    },
    {
     "data": {
      "text/plain": [
       "[]"
      ]
     },
     "execution_count": 6,
     "metadata": {},
     "output_type": "execute_result"
    }
   ],
   "source": [
    "%%sql\n",
    "\n",
    "CREATE TABLE finance_instrument (\n",
    " ticker_symbol VARCHAR(50) NOT NULL PRIMARY KEY,\n",
    " company_name VARCHAR(80) NOT NULL\n",
    ");\n",
    "INSERT INTO finance_instrument (ticker_symbol, company_name)\n",
    "VALUES\n",
    "('BABA', 'Alibaba'),\n",
    "('VLO', 'Valero Energy'),\n",
    "('SAVE', 'Spirit Airlines'),\n",
    "('AAPL', 'Apple'),\n",
    "('GOOG', 'Alphabet')\n",
    ";\n"
   ]
  },
  {
   "cell_type": "code",
   "execution_count": 7,
   "id": "ac5f269d",
   "metadata": {},
   "outputs": [
    {
     "name": "stdout",
     "output_type": "stream",
     "text": [
      " * ibm_db_sa://spz10162:***@0c77d6f2-5da9-48a9-81f8-86b520b87518.bs2io90l08kqb1od8lcg.databases.appdomain.cloud:31198/BLUDB;security=SSL;\n",
      "Done.\n"
     ]
    },
    {
     "data": {
      "text/html": [
       "<table>\n",
       "    <tr>\n",
       "        <th>ticker_symbol</th>\n",
       "        <th>company_name</th>\n",
       "    </tr>\n",
       "    <tr>\n",
       "        <td>BABA</td>\n",
       "        <td>Alibaba</td>\n",
       "    </tr>\n",
       "    <tr>\n",
       "        <td>VLO</td>\n",
       "        <td>Valero Energy</td>\n",
       "    </tr>\n",
       "    <tr>\n",
       "        <td>SAVE</td>\n",
       "        <td>Spirit Airlines</td>\n",
       "    </tr>\n",
       "    <tr>\n",
       "        <td>AAPL</td>\n",
       "        <td>Apple</td>\n",
       "    </tr>\n",
       "    <tr>\n",
       "        <td>GOOG</td>\n",
       "        <td>Alphabet</td>\n",
       "    </tr>\n",
       "</table>"
      ],
      "text/plain": [
       "[('BABA', 'Alibaba'),\n",
       " ('VLO', 'Valero Energy'),\n",
       " ('SAVE', 'Spirit Airlines'),\n",
       " ('AAPL', 'Apple'),\n",
       " ('GOOG', 'Alphabet')]"
      ]
     },
     "execution_count": 7,
     "metadata": {},
     "output_type": "execute_result"
    }
   ],
   "source": [
    "%sql select * from finance_instrument;"
   ]
  },
  {
   "cell_type": "code",
   "execution_count": 8,
   "id": "f26a48c7",
   "metadata": {},
   "outputs": [
    {
     "name": "stdout",
     "output_type": "stream",
     "text": [
      " * ibm_db_sa://spz10162:***@0c77d6f2-5da9-48a9-81f8-86b520b87518.bs2io90l08kqb1od8lcg.databases.appdomain.cloud:31198/BLUDB;security=SSL;\n",
      "Done.\n",
      "  ticker_symbol     company_name\n",
      "0          BABA          Alibaba\n",
      "1           VLO    Valero Energy\n",
      "2          SAVE  Spirit Airlines\n",
      "3          AAPL            Apple\n",
      "4          GOOG         Alphabet\n",
      "file saved\n"
     ]
    }
   ],
   "source": [
    "#создаем датафрейм (df) из финансовых инструментов \n",
    "\n",
    "df_finance_instrument = %sql select * from finance_instrument\n",
    "\n",
    "df_finance_instrument = df_finance_instrument.DataFrame()\n",
    "\n",
    "print(df_finance_instrument)\n",
    "\n",
    "#сохраняем данные в csv файл для бекапа\n",
    "\n",
    "try:\n",
    "    df_finance_instrument.to_csv('/home/anatoliy/data_store/finance_instrument.csv')\n",
    "    print (\"file saved\")\n",
    "\n",
    "except:\n",
    "    print (\"Unable to save\")\n"
   ]
  },
  {
   "cell_type": "code",
   "execution_count": 9,
   "id": "d167230f",
   "metadata": {},
   "outputs": [
    {
     "name": "stdout",
     "output_type": "stream",
     "text": [
      "['BABA', 'VLO', 'SAVE', 'AAPL', 'GOOG']\n"
     ]
    }
   ],
   "source": [
    "#лист тикеров акций\n",
    "list_tiker_finance_instrument=list(df_finance_instrument.ticker_symbol.tolist())\n",
    "print (list_tiker_finance_instrument)"
   ]
  },
  {
   "cell_type": "code",
   "execution_count": 10,
   "id": "896be7fb",
   "metadata": {},
   "outputs": [],
   "source": [
    "#скачиваем данные с www.alphavantage.co сохраняем их в csv файлы на диске - создаем сырой слой данных\n",
    "\n",
    "def download_data(csv_url, csv_filename):\n",
    "    ''' Downloads file from the url and save it as filename '''\n",
    "    # check if file already exists\n",
    "    if not os.path.isfile(csv_filename):\n",
    "        print('Загрузка началась, ожидайте...')\n",
    "        response = requests.get(csv_url)\n",
    "        # Check if the response is ok (200)\n",
    "        if response.status_code == 200:\n",
    "            # Open file and write the content\n",
    "            with open(csv_filename, 'wb') as file:\n",
    "                for line in response:\n",
    "                    file.write(line)\n",
    "            print(f'Файл сохранен' )\n",
    "        else:\n",
    "            print('Ошибка подключения')\n",
    "    else:\n",
    "        print('Файл с таким именем уже существует')\n"
   ]
  },
  {
   "cell_type": "code",
   "execution_count": 11,
   "id": "67227d35",
   "metadata": {},
   "outputs": [
    {
     "name": "stdout",
     "output_type": "stream",
     "text": [
      "Загрузка началась, ожидайте...\n",
      "Файл сохранен\n",
      "Загрузка началась, ожидайте...\n",
      "Файл сохранен\n",
      "Загрузка началась, ожидайте...\n",
      "Файл сохранен\n",
      "Загрузка началась, ожидайте...\n",
      "Файл сохранен\n",
      "Загрузка началась, ожидайте...\n",
      "Файл сохранен\n"
     ]
    }
   ],
   "source": [
    "for api_tiker in list_tiker_finance_instrument:\n",
    "    csv_url = f'https://www.alphavantage.co/query?function=TIME_SERIES_INTRADAY_EXTENDED&symbol={api_tiker}&interval=1min&slice=year1month1&apikey=HIOUN8XSLYYD0JP9'\n",
    "    csv_filename = f'/home/anatoliy/data_store/{api_tiker}_data.csv'\n",
    "    \n",
    "    download_data(csv_url, csv_filename)\n",
    "    #ожидание в 70 секунд между запросами, чтобы не попасть на ограничение\n",
    "    time.sleep(70)"
   ]
  },
  {
   "cell_type": "code",
   "execution_count": null,
   "id": "0c227839",
   "metadata": {},
   "outputs": [],
   "source": [
    "#на выходе получили слой сырых данных содержащий:\n",
    "# - список акций для отслеживания - сохранен в файле finance_instrument.csv\n",
    "# - полученные и сохранненые данные за последний месяц для заданных акций в файлах: \n",
    "#    BABA_data.csv, VLO_data.csv, SAVE_data.csv, AAPL_data.csv, GOOG_data.csv"
   ]
  },
  {
   "cell_type": "code",
   "execution_count": null,
   "id": "151330ff",
   "metadata": {},
   "outputs": [],
   "source": [
    "# ниже создаем ETL слой данных"
   ]
  },
  {
   "cell_type": "code",
   "execution_count": 12,
   "id": "01042a97",
   "metadata": {},
   "outputs": [
    {
     "name": "stdout",
     "output_type": "stream",
     "text": [
      "  tiker      tiker_timestamp  tiker_open  tiker_high  tiker_low  tiker_close  \\\n",
      "0  BABA  2022-12-23 20:00:00        85.8       85.87       85.8        85.86   \n",
      "\n",
      "   tiker_volume  \n",
      "0           700  \n",
      "  tiker      tiker_timestamp  tiker_open  tiker_high  tiker_low  tiker_close  \\\n",
      "0   VLO  2022-12-23 16:50:00      124.37      124.37     124.37       124.37   \n",
      "\n",
      "   tiker_volume  \n",
      "0          1000  \n",
      "  tiker      tiker_timestamp  tiker_open  tiker_high  tiker_low  tiker_close  \\\n",
      "0  SAVE  2022-12-23 19:52:00       19.57       19.57      19.57        19.57   \n",
      "\n",
      "   tiker_volume  \n",
      "0           201  \n",
      "  tiker      tiker_timestamp  tiker_open  tiker_high  tiker_low  tiker_close  \\\n",
      "0  AAPL  2022-12-23 20:00:00      131.65      131.65     131.65       131.65   \n",
      "\n",
      "   tiker_volume  \n",
      "0           648  \n",
      "  tiker      tiker_timestamp  tiker_open  tiker_high  tiker_low  tiker_close  \\\n",
      "0  GOOG  2022-12-23 19:59:00       89.62       89.62      89.62        89.62   \n",
      "\n",
      "   tiker_volume  \n",
      "0           283  \n"
     ]
    }
   ],
   "source": [
    "# загружаем данные из хранилища\n",
    "\n",
    "tiker_frame_dict = {}\n",
    "\n",
    "for api_tiker in list_tiker_finance_instrument:\n",
    "    \n",
    "    tiker_frame = tiker_frame_dict [f'{api_tiker}'] = pandas.read_csv(f'/home/anatoliy/data_store/{api_tiker}_data.csv')\n",
    "    # обогощаем данные, добавляя тикер для индетификации инструмента\n",
    "    tiker_frame.insert(0, 'tiker', f'{api_tiker}')\n",
    "    \n",
    "    # заменяем название столбцов, чтобы не совпадали с ситемными именами \n",
    "    tiker_frame = tiker_frame.rename(columns={\"time\": \"tiker_timestamp\", \"open\": \"tiker_open\", \"high\": \"tiker_high\", \"low\": \"tiker_low\", \"close\": \"tiker_close\", \"volume\": \"tiker_volume\"})\n",
    "    \n",
    "    print (tiker_frame.head(1))\n",
    "    # преобразуем формат данных в столбце с датой во временной\n",
    "    tiker_frame['tiker_timestamp'] = pandas.to_datetime(tiker_frame['tiker_timestamp'])\n",
    "      \n",
    "    # создаем таблицу с данными в базе\n",
    "    tiker_frame.to_sql(f'DATA_TIKER_{api_tiker}'.lower(), con = engine, index=False)\n",
    "              "
   ]
  },
  {
   "cell_type": "code",
   "execution_count": 14,
   "id": "c9925867",
   "metadata": {},
   "outputs": [
    {
     "name": "stdout",
     "output_type": "stream",
     "text": [
      " * ibm_db_sa://spz10162:***@0c77d6f2-5da9-48a9-81f8-86b520b87518.bs2io90l08kqb1od8lcg.databases.appdomain.cloud:31198/BLUDB;security=SSL;\n",
      "Done.\n"
     ]
    },
    {
     "data": {
      "text/html": [
       "<table>\n",
       "    <tr>\n",
       "        <th>tiker</th>\n",
       "        <th>tiker_timestamp</th>\n",
       "        <th>tiker_open</th>\n",
       "        <th>tiker_high</th>\n",
       "        <th>tiker_low</th>\n",
       "        <th>tiker_close</th>\n",
       "        <th>tiker_volume</th>\n",
       "    </tr>\n",
       "    <tr>\n",
       "        <td>BABA</td>\n",
       "        <td>2022-12-23 20:00:00</td>\n",
       "        <td>85.8</td>\n",
       "        <td>85.87</td>\n",
       "        <td>85.8</td>\n",
       "        <td>85.86</td>\n",
       "        <td>700</td>\n",
       "    </tr>\n",
       "    <tr>\n",
       "        <td>BABA</td>\n",
       "        <td>2022-12-23 19:58:00</td>\n",
       "        <td>85.85</td>\n",
       "        <td>85.85</td>\n",
       "        <td>85.85</td>\n",
       "        <td>85.85</td>\n",
       "        <td>300</td>\n",
       "    </tr>\n",
       "    <tr>\n",
       "        <td>BABA</td>\n",
       "        <td>2022-12-23 19:57:00</td>\n",
       "        <td>85.84</td>\n",
       "        <td>85.85</td>\n",
       "        <td>85.79</td>\n",
       "        <td>85.8</td>\n",
       "        <td>1170</td>\n",
       "    </tr>\n",
       "</table>"
      ],
      "text/plain": [
       "[('BABA', datetime.datetime(2022, 12, 23, 20, 0), 85.8, 85.87, 85.8, 85.86, 700),\n",
       " ('BABA', datetime.datetime(2022, 12, 23, 19, 58), 85.85, 85.85, 85.85, 85.85, 300),\n",
       " ('BABA', datetime.datetime(2022, 12, 23, 19, 57), 85.84, 85.85, 85.79, 85.8, 1170)]"
      ]
     },
     "execution_count": 14,
     "metadata": {},
     "output_type": "execute_result"
    }
   ],
   "source": [
    "# проверка созданых таблиц \n",
    "%sql SELECT * FROM data_tiker_baba LIMIT 3"
   ]
  },
  {
   "cell_type": "code",
   "execution_count": 15,
   "id": "228cb499",
   "metadata": {},
   "outputs": [
    {
     "name": "stdout",
     "output_type": "stream",
     "text": [
      " * ibm_db_sa://spz10162:***@0c77d6f2-5da9-48a9-81f8-86b520b87518.bs2io90l08kqb1od8lcg.databases.appdomain.cloud:31198/BLUDB;security=SSL;\n",
      "Done.\n"
     ]
    },
    {
     "data": {
      "text/html": [
       "<table>\n",
       "    <tr>\n",
       "        <th>tiker</th>\n",
       "        <th>tiker_timestamp</th>\n",
       "        <th>tiker_open</th>\n",
       "        <th>tiker_high</th>\n",
       "        <th>tiker_low</th>\n",
       "        <th>tiker_close</th>\n",
       "        <th>tiker_volume</th>\n",
       "    </tr>\n",
       "    <tr>\n",
       "        <td>VLO</td>\n",
       "        <td>2022-12-23 16:50:00</td>\n",
       "        <td>124.37</td>\n",
       "        <td>124.37</td>\n",
       "        <td>124.37</td>\n",
       "        <td>124.37</td>\n",
       "        <td>1000</td>\n",
       "    </tr>\n",
       "    <tr>\n",
       "        <td>VLO</td>\n",
       "        <td>2022-12-23 16:29:00</td>\n",
       "        <td>124.37</td>\n",
       "        <td>124.37</td>\n",
       "        <td>124.37</td>\n",
       "        <td>124.37</td>\n",
       "        <td>1110</td>\n",
       "    </tr>\n",
       "    <tr>\n",
       "        <td>VLO</td>\n",
       "        <td>2022-12-23 16:22:00</td>\n",
       "        <td>124.37</td>\n",
       "        <td>124.37</td>\n",
       "        <td>124.37</td>\n",
       "        <td>124.37</td>\n",
       "        <td>1025</td>\n",
       "    </tr>\n",
       "</table>"
      ],
      "text/plain": [
       "[('VLO', datetime.datetime(2022, 12, 23, 16, 50), 124.37, 124.37, 124.37, 124.37, 1000),\n",
       " ('VLO', datetime.datetime(2022, 12, 23, 16, 29), 124.37, 124.37, 124.37, 124.37, 1110),\n",
       " ('VLO', datetime.datetime(2022, 12, 23, 16, 22), 124.37, 124.37, 124.37, 124.37, 1025)]"
      ]
     },
     "execution_count": 15,
     "metadata": {},
     "output_type": "execute_result"
    }
   ],
   "source": [
    "%sql SELECT * FROM data_tiker_vlo LIMIT 3"
   ]
  },
  {
   "cell_type": "code",
   "execution_count": 16,
   "id": "2b6f55a1",
   "metadata": {},
   "outputs": [
    {
     "name": "stdout",
     "output_type": "stream",
     "text": [
      " * ibm_db_sa://spz10162:***@0c77d6f2-5da9-48a9-81f8-86b520b87518.bs2io90l08kqb1od8lcg.databases.appdomain.cloud:31198/BLUDB;security=SSL;\n",
      "Done.\n"
     ]
    },
    {
     "data": {
      "text/html": [
       "<table>\n",
       "    <tr>\n",
       "        <th>tiker</th>\n",
       "        <th>tiker_timestamp</th>\n",
       "        <th>tiker_open</th>\n",
       "        <th>tiker_high</th>\n",
       "        <th>tiker_low</th>\n",
       "        <th>tiker_close</th>\n",
       "        <th>tiker_volume</th>\n",
       "    </tr>\n",
       "    <tr>\n",
       "        <td>SAVE</td>\n",
       "        <td>2022-12-23 19:52:00</td>\n",
       "        <td>19.57</td>\n",
       "        <td>19.57</td>\n",
       "        <td>19.57</td>\n",
       "        <td>19.57</td>\n",
       "        <td>201</td>\n",
       "    </tr>\n",
       "    <tr>\n",
       "        <td>SAVE</td>\n",
       "        <td>2022-12-23 16:01:00</td>\n",
       "        <td>19.63</td>\n",
       "        <td>19.63</td>\n",
       "        <td>19.63</td>\n",
       "        <td>19.63</td>\n",
       "        <td>6967</td>\n",
       "    </tr>\n",
       "    <tr>\n",
       "        <td>SAVE</td>\n",
       "        <td>2022-12-23 16:00:00</td>\n",
       "        <td>19.655</td>\n",
       "        <td>19.655</td>\n",
       "        <td>19.63</td>\n",
       "        <td>19.63</td>\n",
       "        <td>10699</td>\n",
       "    </tr>\n",
       "</table>"
      ],
      "text/plain": [
       "[('SAVE', datetime.datetime(2022, 12, 23, 19, 52), 19.57, 19.57, 19.57, 19.57, 201),\n",
       " ('SAVE', datetime.datetime(2022, 12, 23, 16, 1), 19.63, 19.63, 19.63, 19.63, 6967),\n",
       " ('SAVE', datetime.datetime(2022, 12, 23, 16, 0), 19.655, 19.655, 19.63, 19.63, 10699)]"
      ]
     },
     "execution_count": 16,
     "metadata": {},
     "output_type": "execute_result"
    }
   ],
   "source": [
    "%sql SELECT * FROM data_tiker_save LIMIT 3"
   ]
  },
  {
   "cell_type": "code",
   "execution_count": 17,
   "id": "dc3419b4",
   "metadata": {},
   "outputs": [
    {
     "name": "stdout",
     "output_type": "stream",
     "text": [
      " * ibm_db_sa://spz10162:***@0c77d6f2-5da9-48a9-81f8-86b520b87518.bs2io90l08kqb1od8lcg.databases.appdomain.cloud:31198/BLUDB;security=SSL;\n",
      "Done.\n"
     ]
    },
    {
     "data": {
      "text/html": [
       "<table>\n",
       "    <tr>\n",
       "        <th>tiker</th>\n",
       "        <th>tiker_timestamp</th>\n",
       "        <th>tiker_open</th>\n",
       "        <th>tiker_high</th>\n",
       "        <th>tiker_low</th>\n",
       "        <th>tiker_close</th>\n",
       "        <th>tiker_volume</th>\n",
       "    </tr>\n",
       "    <tr>\n",
       "        <td>AAPL</td>\n",
       "        <td>2022-12-23 20:00:00</td>\n",
       "        <td>131.65</td>\n",
       "        <td>131.65</td>\n",
       "        <td>131.65</td>\n",
       "        <td>131.65</td>\n",
       "        <td>648</td>\n",
       "    </tr>\n",
       "    <tr>\n",
       "        <td>AAPL</td>\n",
       "        <td>2022-12-23 19:58:00</td>\n",
       "        <td>131.73</td>\n",
       "        <td>131.73</td>\n",
       "        <td>131.7</td>\n",
       "        <td>131.7</td>\n",
       "        <td>1281</td>\n",
       "    </tr>\n",
       "    <tr>\n",
       "        <td>AAPL</td>\n",
       "        <td>2022-12-23 19:57:00</td>\n",
       "        <td>131.7499</td>\n",
       "        <td>131.7499</td>\n",
       "        <td>131.71</td>\n",
       "        <td>131.73</td>\n",
       "        <td>3295</td>\n",
       "    </tr>\n",
       "</table>"
      ],
      "text/plain": [
       "[('AAPL', datetime.datetime(2022, 12, 23, 20, 0), 131.65, 131.65, 131.65, 131.65, 648),\n",
       " ('AAPL', datetime.datetime(2022, 12, 23, 19, 58), 131.73, 131.73, 131.7, 131.7, 1281),\n",
       " ('AAPL', datetime.datetime(2022, 12, 23, 19, 57), 131.7499, 131.7499, 131.71, 131.73, 3295)]"
      ]
     },
     "execution_count": 17,
     "metadata": {},
     "output_type": "execute_result"
    }
   ],
   "source": [
    "%sql SELECT * FROM data_tiker_aapl LIMIT 3"
   ]
  },
  {
   "cell_type": "code",
   "execution_count": 18,
   "id": "b3944b3a",
   "metadata": {},
   "outputs": [
    {
     "name": "stdout",
     "output_type": "stream",
     "text": [
      " * ibm_db_sa://spz10162:***@0c77d6f2-5da9-48a9-81f8-86b520b87518.bs2io90l08kqb1od8lcg.databases.appdomain.cloud:31198/BLUDB;security=SSL;\n",
      "Done.\n"
     ]
    },
    {
     "data": {
      "text/html": [
       "<table>\n",
       "    <tr>\n",
       "        <th>tiker</th>\n",
       "        <th>tiker_timestamp</th>\n",
       "        <th>tiker_open</th>\n",
       "        <th>tiker_high</th>\n",
       "        <th>tiker_low</th>\n",
       "        <th>tiker_close</th>\n",
       "        <th>tiker_volume</th>\n",
       "    </tr>\n",
       "    <tr>\n",
       "        <td>GOOG</td>\n",
       "        <td>2022-12-23 19:59:00</td>\n",
       "        <td>89.62</td>\n",
       "        <td>89.62</td>\n",
       "        <td>89.62</td>\n",
       "        <td>89.62</td>\n",
       "        <td>283</td>\n",
       "    </tr>\n",
       "    <tr>\n",
       "        <td>GOOG</td>\n",
       "        <td>2022-12-23 19:48:00</td>\n",
       "        <td>89.6001</td>\n",
       "        <td>89.6001</td>\n",
       "        <td>89.6001</td>\n",
       "        <td>89.6001</td>\n",
       "        <td>100</td>\n",
       "    </tr>\n",
       "    <tr>\n",
       "        <td>GOOG</td>\n",
       "        <td>2022-12-23 19:44:00</td>\n",
       "        <td>89.62</td>\n",
       "        <td>89.62</td>\n",
       "        <td>89.62</td>\n",
       "        <td>89.62</td>\n",
       "        <td>251</td>\n",
       "    </tr>\n",
       "</table>"
      ],
      "text/plain": [
       "[('GOOG', datetime.datetime(2022, 12, 23, 19, 59), 89.62, 89.62, 89.62, 89.62, 283),\n",
       " ('GOOG', datetime.datetime(2022, 12, 23, 19, 48), 89.6001, 89.6001, 89.6001, 89.6001, 100),\n",
       " ('GOOG', datetime.datetime(2022, 12, 23, 19, 44), 89.62, 89.62, 89.62, 89.62, 251)]"
      ]
     },
     "execution_count": 18,
     "metadata": {},
     "output_type": "execute_result"
    }
   ],
   "source": [
    "%sql SELECT * FROM data_tiker_goog LIMIT 3"
   ]
  }
 ],
 "metadata": {
  "kernelspec": {
   "display_name": "Python 3 (ipykernel)",
   "language": "python",
   "name": "python3"
  },
  "language_info": {
   "codemirror_mode": {
    "name": "ipython",
    "version": 3
   },
   "file_extension": ".py",
   "mimetype": "text/x-python",
   "name": "python",
   "nbconvert_exporter": "python",
   "pygments_lexer": "ipython3",
   "version": "3.9.13"
  }
 },
 "nbformat": 4,
 "nbformat_minor": 5
}
