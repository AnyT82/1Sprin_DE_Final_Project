{
 "cells": [
  {
   "cell_type": "code",
   "execution_count": 1,
   "id": "803cb0c9",
   "metadata": {},
   "outputs": [],
   "source": [
    "#скрипт для инкрементной загрузки данных\n",
    "\n",
    "import os\n",
    "import requests\n",
    "import csv\n",
    "import pandas\n",
    "import time\n",
    "import datetime\n",
    "import sqlalchemy"
   ]
  },
  {
   "cell_type": "code",
   "execution_count": null,
   "id": "37a03664",
   "metadata": {},
   "outputs": [],
   "source": [
    "#задаем данные для подключения к облачному серверу ibm -  Db2 hostname, username, and password\n",
    "#задаем dsn connection string\n",
    "#создаем соединение с базой данных"
   ]
  },
  {
   "cell_type": "code",
   "execution_count": 2,
   "id": "6a6668fb",
   "metadata": {},
   "outputs": [
    {
     "name": "stdout",
     "output_type": "stream",
     "text": [
      "Connected to database:  BLUDB as user:  spz10162 on host:  0c77d6f2-5da9-48a9-81f8-86b520b87518.bs2io90l08kqb1od8lcg.databases.appdomain.cloud\n"
     ]
    }
   ],
   "source": [
    "import ibm_db\n",
    "import ibm_db_dbi\n",
    "\n",
    "dsn_hostname = \"0c77d6f2-5da9-48a9-81f8-86b520b87518.bs2io90l08kqb1od8lcg.databases.appdomain.cloud\" \n",
    "dsn_uid = \"spz10162\"        \n",
    "dsn_pwd = \"*****\"      \n",
    "\n",
    "dsn_driver = \"{IBM DB2 ODBC DRIVER}\"\n",
    "dsn_database = \"BLUDB\"            \n",
    "dsn_port = \"31198\"                 \n",
    "dsn_protocol = \"TCPIP\"           \n",
    "dsn_security = \"SSL\"             \n",
    "\n",
    "dsn = (\n",
    "    \"DRIVER={0};\"\n",
    "    \"DATABASE={1};\"\n",
    "    \"HOSTNAME={2};\"\n",
    "    \"PORT={3};\"\n",
    "    \"PROTOCOL={4};\"\n",
    "    \"UID={5};\"\n",
    "    \"PWD={6};\"\n",
    "    \"SECURITY={7};\").format(dsn_driver, dsn_database, dsn_hostname, dsn_port, dsn_protocol, dsn_uid, dsn_pwd,dsn_security)\n",
    "\n",
    "try:\n",
    "    conn = ibm_db.connect(dsn, \"\", \"\")\n",
    "    print (\"Connected to database: \", dsn_database, \"as user: \", dsn_uid, \"on host: \", dsn_hostname)\n",
    "\n",
    "except:\n",
    "    print (\"Unable to connect: \", ibm_db.conn_errormsg() )\n"
   ]
  },
  {
   "cell_type": "code",
   "execution_count": null,
   "id": "33948070",
   "metadata": {},
   "outputs": [],
   "source": [
    "# загружаем Python Magic for SQL (если не установлен необходимо выполнить !pip install ipython-sql, !pip install sqlalchemy )\n",
    "# загружаем библиотеку для работы с облачной базой данных ibm\n",
    "# загружаем IBM_DB_SA adapter для Python/SQLAlchemy interface to IBM Data Servers \n",
    "# если не установлен необходимо выполнить !pip install ibm_db_sa ( https://github.com/ibmdb/python-ibmdbsa)   "
   ]
  },
  {
   "cell_type": "code",
   "execution_count": 3,
   "id": "6662dc29",
   "metadata": {},
   "outputs": [],
   "source": [
    "%load_ext sql\n",
    "\n",
    "import ibm_db_sa\n",
    "from sqlalchemy import *\n",
    "\n",
    "%sql ibm_db_sa://spz10162:****@0c77d6f2-5da9-48a9-81f8-86b520b87518.bs2io90l08kqb1od8lcg.databases.appdomain.cloud:31198/BLUDB;security=SSL;\n",
    "\n",
    "SQLALCHEMY_DATABASE_URI = 'ibm_db_sa://spz10162:*****@0c77d6f2-5da9-48a9-81f8-86b520b87518.bs2io90l08kqb1od8lcg.databases.appdomain.cloud:31198/BLUDB;security=SSL;'\n",
    "engine = create_engine(SQLALCHEMY_DATABASE_URI, echo=False)\n",
    "                        "
   ]
  },
  {
   "cell_type": "code",
   "execution_count": 4,
   "id": "41a09dd6",
   "metadata": {},
   "outputs": [
    {
     "name": "stdout",
     "output_type": "stream",
     "text": [
      " * ibm_db_sa://spz10162:***@0c77d6f2-5da9-48a9-81f8-86b520b87518.bs2io90l08kqb1od8lcg.databases.appdomain.cloud:31198/BLUDB;security=SSL;\n",
      "Done.\n"
     ]
    },
    {
     "data": {
      "text/html": [
       "<table>\n",
       "    <tr>\n",
       "        <th>ticker_symbol</th>\n",
       "        <th>company_name</th>\n",
       "    </tr>\n",
       "    <tr>\n",
       "        <td>BABA</td>\n",
       "        <td>Alibaba</td>\n",
       "    </tr>\n",
       "    <tr>\n",
       "        <td>VLO</td>\n",
       "        <td>Valero Energy</td>\n",
       "    </tr>\n",
       "    <tr>\n",
       "        <td>SAVE</td>\n",
       "        <td>Spirit Airlines</td>\n",
       "    </tr>\n",
       "    <tr>\n",
       "        <td>AAPL</td>\n",
       "        <td>Apple</td>\n",
       "    </tr>\n",
       "    <tr>\n",
       "        <td>GOOG</td>\n",
       "        <td>Alphabet</td>\n",
       "    </tr>\n",
       "</table>"
      ],
      "text/plain": [
       "[('BABA', 'Alibaba'),\n",
       " ('VLO', 'Valero Energy'),\n",
       " ('SAVE', 'Spirit Airlines'),\n",
       " ('AAPL', 'Apple'),\n",
       " ('GOOG', 'Alphabet')]"
      ]
     },
     "execution_count": 4,
     "metadata": {},
     "output_type": "execute_result"
    }
   ],
   "source": [
    "# загружаем отслеживаемые финансовые иснтрументы\n",
    "\n",
    "%sql select * from finance_instrument;"
   ]
  },
  {
   "cell_type": "code",
   "execution_count": 5,
   "id": "d1341693",
   "metadata": {},
   "outputs": [
    {
     "name": "stdout",
     "output_type": "stream",
     "text": [
      " * ibm_db_sa://spz10162:***@0c77d6f2-5da9-48a9-81f8-86b520b87518.bs2io90l08kqb1od8lcg.databases.appdomain.cloud:31198/BLUDB;security=SSL;\n",
      "Done.\n",
      "  ticker_symbol     company_name\n",
      "0          BABA          Alibaba\n",
      "1           VLO    Valero Energy\n",
      "2          SAVE  Spirit Airlines\n",
      "3          AAPL            Apple\n",
      "4          GOOG         Alphabet\n"
     ]
    }
   ],
   "source": [
    "#создаем датафрейм (df) из финансовых инструментов \n",
    "\n",
    "df_finance_instrument = %sql select * from finance_instrument\n",
    "\n",
    "df_finance_instrument = df_finance_instrument.DataFrame()\n",
    "\n",
    "print(df_finance_instrument)\n"
   ]
  },
  {
   "cell_type": "code",
   "execution_count": 6,
   "id": "de4747f0",
   "metadata": {},
   "outputs": [
    {
     "name": "stdout",
     "output_type": "stream",
     "text": [
      "['BABA', 'VLO', 'SAVE', 'AAPL', 'GOOG']\n"
     ]
    }
   ],
   "source": [
    "#лист тикеров акций\n",
    "list_tiker_finance_instrument=list(df_finance_instrument.ticker_symbol.tolist())\n",
    "print (list_tiker_finance_instrument)"
   ]
  },
  {
   "cell_type": "code",
   "execution_count": 7,
   "id": "cdd8a24e",
   "metadata": {},
   "outputs": [],
   "source": [
    "#скачиваем данные с www.alphavantage.co сохраняем их в csv файлы на диске - создаем сырой слой данных\n",
    "\n",
    "def download_data(csv_url, csv_filename):\n",
    "    ''' Downloads file from the url and save it as filename '''\n",
    "    # check if file already exists\n",
    "    if not os.path.isfile(csv_filename):\n",
    "        print('Загрузка началась, ожидайте...')\n",
    "        response = requests.get(csv_url)\n",
    "        # Check if the response is ok (200)\n",
    "        if response.status_code == 200:\n",
    "            # Open file and write the content\n",
    "            with open(csv_filename, 'wb') as file:\n",
    "                for line in response:\n",
    "                    file.write(line)\n",
    "            print(f'Файл сохранен' )\n",
    "        else:\n",
    "            print('Ошибка подключения')\n",
    "    else:\n",
    "        print('Файл с таким именем уже существует')\n"
   ]
  },
  {
   "cell_type": "code",
   "execution_count": 8,
   "id": "2b64e5b2",
   "metadata": {},
   "outputs": [
    {
     "name": "stdout",
     "output_type": "stream",
     "text": [
      "Загрузка началась, ожидайте...\n",
      "Файл сохранен\n",
      "Загрузка началась, ожидайте...\n",
      "Файл сохранен\n",
      "Загрузка началась, ожидайте...\n",
      "Файл сохранен\n",
      "Загрузка началась, ожидайте...\n",
      "Файл сохранен\n",
      "Загрузка началась, ожидайте...\n",
      "Файл сохранен\n"
     ]
    }
   ],
   "source": [
    "today_date = datetime.date.today()\n",
    "\n",
    "for api_tiker in list_tiker_finance_instrument:\n",
    "    csv_url = f'https://www.alphavantage.co/query?function=TIME_SERIES_INTRADAY&symbol={api_tiker}&interval=1min&apikey=HIOUN8XSLYYD0JP9&datatype=csv&outputsize=full'\n",
    "    csv_filename = f'/home/anatoliy/data_store/{api_tiker}_data_day_{today_date}.csv'\n",
    "    \n",
    "    download_data(csv_url, csv_filename)\n",
    "    #ожидание в 70 секунд между запросами, чтобы не попасть на ограничение\n",
    "    time.sleep(70)\n",
    "    \n",
    "       "
   ]
  },
  {
   "cell_type": "code",
   "execution_count": null,
   "id": "91d86df2",
   "metadata": {},
   "outputs": [],
   "source": [
    "#на выходе получили слой сырых данных содержащий:\n",
    "# - полученные и сохранненые данные за последний месяц для заданных акций в виде: \n",
    "#   BABA_data_day_2022-12-25.csv\n"
   ]
  },
  {
   "cell_type": "code",
   "execution_count": null,
   "id": "13368380",
   "metadata": {},
   "outputs": [],
   "source": [
    "# ниже создаем ETL слой данных"
   ]
  },
  {
   "cell_type": "code",
   "execution_count": 12,
   "id": "169f089e",
   "metadata": {},
   "outputs": [
    {
     "name": "stdout",
     "output_type": "stream",
     "text": [
      "Фрейм с полуенными данными   tiker      tiker_timestamp  tiker_open  tiker_high  tiker_low  tiker_close  \\\n",
      "0  BABA  2022-12-27 20:00:00       89.86       89.86      89.86        89.86   \n",
      "\n",
      "   tiker_volume  \n",
      "0           532  \n",
      "Текущее последнее значение даты и времени у сохраненных данных для BABA 2022-12-27 20:00:00\n",
      "\n",
      "Фрейм с полуенными данными   tiker      tiker_timestamp  tiker_open  tiker_high  tiker_low  tiker_close  \\\n",
      "0   VLO  2022-12-27 19:57:00      126.41      126.41     126.41       126.41   \n",
      "\n",
      "   tiker_volume  \n",
      "0           200  \n",
      "Текущее последнее значение даты и времени у сохраненных данных для VLO 2022-12-27 19:57:00\n",
      "\n",
      "Фрейм с полуенными данными   tiker      tiker_timestamp  tiker_open  tiker_high  tiker_low  tiker_close  \\\n",
      "0  SAVE  2022-12-27 16:08:00       19.37       19.37      19.37        19.37   \n",
      "\n",
      "   tiker_volume  \n",
      "0         21790  \n",
      "Текущее последнее значение даты и времени у сохраненных данных для SAVE 2022-12-27 16:08:00\n",
      "\n",
      "Фрейм с полуенными данными   tiker      tiker_timestamp  tiker_open  tiker_high  tiker_low  tiker_close  \\\n",
      "0  AAPL  2022-12-27 20:00:00      129.65      129.65      129.5        129.5   \n",
      "\n",
      "   tiker_volume  \n",
      "0          9284  \n",
      "Текущее последнее значение даты и времени у сохраненных данных для AAPL 2022-12-27 20:00:00\n",
      "\n",
      "Фрейм с полуенными данными   tiker      tiker_timestamp  tiker_open  tiker_high  tiker_low  tiker_close  \\\n",
      "0  GOOG  2022-12-27 20:00:00       87.75       87.75      87.75        87.75   \n",
      "\n",
      "   tiker_volume  \n",
      "0           518  \n",
      "Текущее последнее значение даты и времени у сохраненных данных для GOOG 2022-12-27 20:00:00\n",
      "\n"
     ]
    }
   ],
   "source": [
    "# загружаем данные из хранилища\n",
    "\n",
    "for api_tiker in list_tiker_finance_instrument:\n",
    "    \n",
    "    tiker_frame_increment = pandas.read_csv(f'/home/anatoliy/data_store/{api_tiker}_data_day_{today_date}.csv')\n",
    "    \n",
    "    # обогощаем данные, добавляя тикер для индетификации инструмента\n",
    "    tiker_frame_increment.insert(0, 'tiker', f'{api_tiker}')\n",
    "    \n",
    "    # заменяем название столбцов, чтобы не совпадали с ситемными именами \n",
    "    tiker_frame_increment = tiker_frame_increment.rename(columns={\"timestamp\": \"tiker_timestamp\", \"open\": \"tiker_open\", \"high\": \"tiker_high\", \"low\": \"tiker_low\", \"close\": \"tiker_close\", \"volume\": \"tiker_volume\"})\n",
    "    \n",
    "    # смотрим, что в фреймах правильные данные\n",
    "    print ('Фрейм с полуенными данными', tiker_frame_increment.head(1), end='\\n')\n",
    "    \n",
    "    # преобразуем формат данных в столбце с датой во временной\n",
    "    tiker_frame_increment['tiker_timestamp'] = pandas.to_datetime(tiker_frame_increment['tiker_timestamp'])\n",
    "      \n",
    "    pconn = ibm_db_dbi.Connection(conn)\n",
    "    \n",
    "    # проверям максимальную дату данных на сервере\n",
    "    max_save_timestamp  = pandas.read_sql(f'SELECT MAX(tiker_timestamp) FROM data_tiker_{api_tiker}', pconn)\n",
    "\n",
    "    max_save_timestamp = max_save_timestamp['1'].iloc[0]\n",
    " \n",
    "    # удаляем из фрема ранее полученные данные, которые уже есть на сервере \n",
    "\n",
    "    mask_timestamp = (tiker_frame_increment['tiker_timestamp'] > max_save_timestamp) \n",
    "    tiker_frame_increment = tiker_frame_increment.loc[mask_timestamp]\n",
    " \n",
    "    # добавляем новые данные к существующей таблице, для примера - в таблица data_tiker_baba\n",
    "\n",
    "    tiker_frame_increment.to_sql(f'DATA_TIKER_{api_tiker}'.lower(), con = engine, index=False, if_exists='append')\n",
    "    \n",
    "    # проверям максимальную дату данных после обновления на сервере\n",
    "    max_save_timestamp_now  = pandas.read_sql(f'SELECT MAX(tiker_timestamp) FROM data_tiker_{api_tiker}', pconn)\n",
    "\n",
    "    max_save_timestamp_now  = max_save_timestamp_now ['1'].iloc[0]\n",
    "    \n",
    "    print ('Текущее последнее значение даты и времени у сохраненных данных для',  api_tiker, max_save_timestamp_now, end='\\n\\n')\n",
    "     "
   ]
  },
  {
   "cell_type": "code",
   "execution_count": null,
   "id": "7663c2d3",
   "metadata": {},
   "outputs": [],
   "source": [
    "# создаем витрину данных, в которой таблицы вида:\n",
    "# baba_day_data_temp - содержит данные по финансовому инструменту baba за предыдущий день\n",
    "# baba_day_data - содержит данные, сформированные для витрины, по финансовому инструменту baba за предыдущий день\n",
    "# baba_day_data_mart - содержит данные витрины финансового инструмента baba за предыдущий день"
   ]
  },
  {
   "cell_type": "code",
   "execution_count": 13,
   "id": "313de4fb",
   "metadata": {},
   "outputs": [
    {
     "name": "stdout",
     "output_type": "stream",
     "text": [
      "['baba', 'vlo', 'save', 'aapl', 'goog']\n"
     ]
    }
   ],
   "source": [
    "list_tiker_finance_instrument = [item.lower() for item in list_tiker_finance_instrument]\n",
    "print (list_tiker_finance_instrument)"
   ]
  },
  {
   "cell_type": "code",
   "execution_count": 14,
   "id": "5d784ec6",
   "metadata": {},
   "outputs": [
    {
     "name": "stdout",
     "output_type": "stream",
     "text": [
      "дневные таблицы удалены\n"
     ]
    }
   ],
   "source": [
    "try:\n",
    "    for api_tiker in list_tiker_finance_instrument:\n",
    "        sqlStatement = f'DROP TABLE {api_tiker}_day_data_mart'\n",
    "        resultSet = ibm_db.exec_immediate(conn, sqlStatement)\n",
    "        \n",
    "        sqlStatement = f'DROP TABLE {api_tiker}_day_data'\n",
    "        resultSet = ibm_db.exec_immediate(conn, sqlStatement)  \n",
    "        \n",
    "        sqlStatement = f'DROP TABLE {api_tiker}_day_data_temp'   \n",
    "        resultSet = ibm_db.exec_immediate(conn, sqlStatement)  \n",
    "    print ('дневные таблицы удалены' )\n",
    "\n",
    "except Exception as drop_table_error: \n",
    "        print (drop_table_error )"
   ]
  },
  {
   "cell_type": "code",
   "execution_count": 15,
   "id": "7dc1ed7e",
   "metadata": {},
   "outputs": [
    {
     "name": "stdout",
     "output_type": "stream",
     "text": [
      "baba mart done\n",
      "vlo mart done\n",
      "save mart done\n",
      "aapl mart done\n",
      "goog mart done\n"
     ]
    }
   ],
   "source": [
    "# агрегируем данные для витрины\n",
    "\n",
    "try:\n",
    "    for api_tiker in list_tiker_finance_instrument:\n",
    "        sqlStatement =  f\"\"\" \n",
    "        CREATE TABLE {api_tiker}_day_data_temp (\n",
    "        tiker VARCHAR (50),\n",
    "        tiker_timestamp DATETIME,\n",
    "        tiker_open DECIMAL(15,2),\n",
    "        tiker_high DECIMAL(15,2),\n",
    "        tiker_low DECIMAL(15,2),\n",
    "        tiker_close DECIMAL(15,2),\n",
    "        tiker_volume INTEGER\n",
    "        ) ;\n",
    "        \"\"\"\n",
    "\n",
    "        preparedStmt = ibm_db.prepare(conn, sqlStatement)\n",
    "        returnCode = ibm_db.execute(preparedStmt)\n",
    "\n",
    "        sqlStatement =  f\"\"\" \n",
    "        INSERT INTO {api_tiker}_day_data_temp  \n",
    "        SELECT * FROM data_tiker_{api_tiker}\n",
    "        WHERE DATE(tiker_timestamp) = (CURRENT_DATE - 1 DAY);  \n",
    "        \"\"\"\n",
    "\n",
    "        preparedStmt = ibm_db.prepare(conn, sqlStatement)\n",
    "        returnCode = ibm_db.execute(preparedStmt)\n",
    "\n",
    "\n",
    "        sqlStatement =  f\"\"\"\n",
    "        CREATE TABLE {api_tiker}_day_data (\n",
    "        tiker VARCHAR (50),\n",
    "        day_volume INTEGER,\n",
    "        day_open DECIMAL(15,2),\n",
    "        day_close DECIMAL(15,2),\n",
    "        max_volume_time DATETIME,\n",
    "        high_price_time DATETIME,\n",
    "        low_price_time DATETIME\n",
    "        ) ;\n",
    "         \"\"\"\n",
    "\n",
    "        preparedStmt = ibm_db.prepare(conn, sqlStatement)\n",
    "        returnCode = ibm_db.execute(preparedStmt)\n",
    "\n",
    "        sqlStatement =  f\"\"\"\n",
    "        INSERT INTO {api_tiker}_day_data (tiker, day_volume, day_open, day_close, max_volume_time,\n",
    "        high_price_time, low_price_time )\n",
    "\n",
    "        SELECT\n",
    "        (SELECT tiker FROM {api_tiker}_day_data_temp  \n",
    "        WHERE tiker_timestamp = (SELECT MIN(tiker_timestamp) FROM {api_tiker}_day_data_temp)) ,\n",
    "\n",
    "\n",
    "        SUM(tiker_volume) AS tiker_day_volume,\n",
    "\n",
    "        (SELECT tiker_open FROM {api_tiker}_day_data_temp\n",
    "             WHERE tiker_timestamp = (SELECT MIN(tiker_timestamp) FROM {api_tiker}_day_data_temp)) AS tiker_day_open ,\n",
    "\n",
    "        (SELECT tiker_close FROM {api_tiker}_day_data_temp\n",
    "             WHERE tiker_timestamp = (SELECT MAX(tiker_timestamp) FROM {api_tiker}_day_data_temp)) AS tiker_day_close ,\n",
    "\n",
    "        (SELECT MIN(tiker_timestamp) FROM {api_tiker}_day_data_temp\n",
    "        WHERE  tiker_volume = (SELECT MAX(tiker_volume)\n",
    "        FROM {api_tiker}_day_data_temp)) AS tiker_max_volume_time,\n",
    "\n",
    "        (SELECT MIN(tiker_timestamp) FROM {api_tiker}_day_data_temp\n",
    "        WHERE  tiker_high = (SELECT MAX(tiker_high)\n",
    "        FROM {api_tiker}_day_data_temp)) AS tiker_high_price_time,\n",
    "\n",
    "        (SELECT MIN(tiker_timestamp) FROM {api_tiker}_day_data_temp\n",
    "        WHERE  tiker_low = (SELECT MIN(tiker_low)\n",
    "        FROM {api_tiker}_day_data_temp)) AS tiker_low_price_time\n",
    "\n",
    "        FROM {api_tiker}_day_data_temp;\n",
    "         \"\"\"\n",
    "\n",
    "        preparedStmt = ibm_db.prepare(conn, sqlStatement)\n",
    "        returnCode = ibm_db.execute(preparedStmt)\n",
    "\n",
    "        sqlStatement =  f\"\"\" \n",
    "        CREATE TABLE {api_tiker}_day_data_mart\n",
    "        (\n",
    "        company_name VARCHAR (50),\n",
    "        tiker VARCHAR (50),\n",
    "        day_volume INTEGER,\n",
    "        day_open DECIMAL(15,2),\n",
    "        day_close DECIMAL(15,2),\n",
    "        delta_percent DECIMAL(15,2),\n",
    "        max_volume_time DATETIME,\n",
    "        high_price_time DATETIME,\n",
    "        low_price_time DATETIME\n",
    "        ) ;\n",
    "        \"\"\"\n",
    "\n",
    "        preparedStmt = ibm_db.prepare(conn, sqlStatement)\n",
    "        returnCode = ibm_db.execute(preparedStmt)\n",
    "\n",
    "        sqlStatement =  f\"\"\" \n",
    "        INSERT INTO {api_tiker}_day_data_mart (company_name, tiker, day_volume, day_open, day_close,\n",
    "        delta_percent, max_volume_time, high_price_time, low_price_time )\n",
    "\n",
    "        SELECT n.company_name, d.tiker, d.day_volume, d.day_open, d.day_close,  \n",
    "          2*100*(d.day_close - d.day_open)/(d.day_close + d.day_open) AS delta_percent,\n",
    "        d.max_volume_time, d.high_price_time, d.low_price_time\n",
    "                FROM {api_tiker}_day_data AS d\n",
    "                LEFT JOIN finance_instrument AS n ON d.tiker=n.ticker_symbol;\n",
    "        \"\"\"\n",
    "\n",
    "        preparedStmt = ibm_db.prepare(conn, sqlStatement)\n",
    "        returnCode = ibm_db.execute(preparedStmt)    \n",
    "    \n",
    "        print (api_tiker, 'mart done')\n",
    "    \n",
    "except Exception as table_creat_error: \n",
    "        print (table_creat_error)\n"
   ]
  },
  {
   "cell_type": "code",
   "execution_count": 16,
   "id": "034f34f2",
   "metadata": {},
   "outputs": [
    {
     "name": "stdout",
     "output_type": "stream",
     "text": [
      " * ibm_db_sa://spz10162:***@0c77d6f2-5da9-48a9-81f8-86b520b87518.bs2io90l08kqb1od8lcg.databases.appdomain.cloud:31198/BLUDB;security=SSL;\n",
      "Done.\n"
     ]
    },
    {
     "data": {
      "text/html": [
       "<table>\n",
       "    <tr>\n",
       "        <th>company_name</th>\n",
       "        <th>tiker</th>\n",
       "        <th>day_volume</th>\n",
       "        <th>day_open</th>\n",
       "        <th>day_close</th>\n",
       "        <th>delta_percent</th>\n",
       "        <th>max_volume_time</th>\n",
       "        <th>high_price_time</th>\n",
       "        <th>low_price_time</th>\n",
       "    </tr>\n",
       "    <tr>\n",
       "        <td>Alibaba</td>\n",
       "        <td>BABA</td>\n",
       "        <td>22408772</td>\n",
       "        <td>86.84</td>\n",
       "        <td>89.86</td>\n",
       "        <td>3.41</td>\n",
       "        <td>2022-12-27 16:43:00</td>\n",
       "        <td>2022-12-27 09:43:00</td>\n",
       "        <td>2022-12-27 08:02:00</td>\n",
       "    </tr>\n",
       "</table>"
      ],
      "text/plain": [
       "[('Alibaba', 'BABA', 22408772, Decimal('86.84'), Decimal('89.86'), Decimal('3.41'), datetime.datetime(2022, 12, 27, 16, 43), datetime.datetime(2022, 12, 27, 9, 43), datetime.datetime(2022, 12, 27, 8, 2))]"
      ]
     },
     "execution_count": 16,
     "metadata": {},
     "output_type": "execute_result"
    }
   ],
   "source": [
    "# проверка витрины данных\n",
    "%sql SELECT * FROM baba_day_data_mart"
   ]
  },
  {
   "cell_type": "code",
   "execution_count": 17,
   "id": "3aa44a5b",
   "metadata": {},
   "outputs": [
    {
     "name": "stdout",
     "output_type": "stream",
     "text": [
      " * ibm_db_sa://spz10162:***@0c77d6f2-5da9-48a9-81f8-86b520b87518.bs2io90l08kqb1od8lcg.databases.appdomain.cloud:31198/BLUDB;security=SSL;\n",
      "Done.\n"
     ]
    },
    {
     "data": {
      "text/html": [
       "<table>\n",
       "    <tr>\n",
       "        <th>company_name</th>\n",
       "        <th>tiker</th>\n",
       "        <th>day_volume</th>\n",
       "        <th>day_open</th>\n",
       "        <th>day_close</th>\n",
       "        <th>delta_percent</th>\n",
       "        <th>max_volume_time</th>\n",
       "        <th>high_price_time</th>\n",
       "        <th>low_price_time</th>\n",
       "    </tr>\n",
       "    <tr>\n",
       "        <td>Valero Energy</td>\n",
       "        <td>VLO</td>\n",
       "        <td>3218460</td>\n",
       "        <td>125.25</td>\n",
       "        <td>126.41</td>\n",
       "        <td>0.92</td>\n",
       "        <td>2022-12-27 16:00:00</td>\n",
       "        <td>2022-12-27 15:29:00</td>\n",
       "        <td>2022-12-27 09:35:00</td>\n",
       "    </tr>\n",
       "</table>"
      ],
      "text/plain": [
       "[('Valero Energy', 'VLO', 3218460, Decimal('125.25'), Decimal('126.41'), Decimal('0.92'), datetime.datetime(2022, 12, 27, 16, 0), datetime.datetime(2022, 12, 27, 15, 29), datetime.datetime(2022, 12, 27, 9, 35))]"
      ]
     },
     "execution_count": 17,
     "metadata": {},
     "output_type": "execute_result"
    }
   ],
   "source": [
    "%sql SELECT * FROM vlo_day_data_mart"
   ]
  },
  {
   "cell_type": "code",
   "execution_count": 18,
   "id": "27a003ce",
   "metadata": {},
   "outputs": [
    {
     "name": "stdout",
     "output_type": "stream",
     "text": [
      " * ibm_db_sa://spz10162:***@0c77d6f2-5da9-48a9-81f8-86b520b87518.bs2io90l08kqb1od8lcg.databases.appdomain.cloud:31198/BLUDB;security=SSL;\n",
      "Done.\n"
     ]
    },
    {
     "data": {
      "text/html": [
       "<table>\n",
       "    <tr>\n",
       "        <th>company_name</th>\n",
       "        <th>tiker</th>\n",
       "        <th>day_volume</th>\n",
       "        <th>day_open</th>\n",
       "        <th>day_close</th>\n",
       "        <th>delta_percent</th>\n",
       "        <th>max_volume_time</th>\n",
       "        <th>high_price_time</th>\n",
       "        <th>low_price_time</th>\n",
       "    </tr>\n",
       "    <tr>\n",
       "        <td>Spirit Airlines</td>\n",
       "        <td>SAVE</td>\n",
       "        <td>382149</td>\n",
       "        <td>19.65</td>\n",
       "        <td>19.37</td>\n",
       "        <td>-1.43</td>\n",
       "        <td>2022-12-27 16:00:00</td>\n",
       "        <td>2022-12-27 09:35:00</td>\n",
       "        <td>2022-12-27 12:45:00</td>\n",
       "    </tr>\n",
       "</table>"
      ],
      "text/plain": [
       "[('Spirit Airlines', 'SAVE', 382149, Decimal('19.65'), Decimal('19.37'), Decimal('-1.43'), datetime.datetime(2022, 12, 27, 16, 0), datetime.datetime(2022, 12, 27, 9, 35), datetime.datetime(2022, 12, 27, 12, 45))]"
      ]
     },
     "execution_count": 18,
     "metadata": {},
     "output_type": "execute_result"
    }
   ],
   "source": [
    "%sql SELECT * FROM save_day_data_mart"
   ]
  },
  {
   "cell_type": "code",
   "execution_count": 19,
   "id": "21910b9e",
   "metadata": {},
   "outputs": [
    {
     "name": "stdout",
     "output_type": "stream",
     "text": [
      " * ibm_db_sa://spz10162:***@0c77d6f2-5da9-48a9-81f8-86b520b87518.bs2io90l08kqb1od8lcg.databases.appdomain.cloud:31198/BLUDB;security=SSL;\n",
      "Done.\n"
     ]
    },
    {
     "data": {
      "text/html": [
       "<table>\n",
       "    <tr>\n",
       "        <th>company_name</th>\n",
       "        <th>tiker</th>\n",
       "        <th>day_volume</th>\n",
       "        <th>day_open</th>\n",
       "        <th>day_close</th>\n",
       "        <th>delta_percent</th>\n",
       "        <th>max_volume_time</th>\n",
       "        <th>high_price_time</th>\n",
       "        <th>low_price_time</th>\n",
       "    </tr>\n",
       "    <tr>\n",
       "        <td>Apple</td>\n",
       "        <td>AAPL</td>\n",
       "        <td>64243894</td>\n",
       "        <td>132.52</td>\n",
       "        <td>129.50</td>\n",
       "        <td>-2.30</td>\n",
       "        <td>2022-12-27 09:31:00</td>\n",
       "        <td>2022-12-27 04:01:00</td>\n",
       "        <td>2022-12-27 10:04:00</td>\n",
       "    </tr>\n",
       "</table>"
      ],
      "text/plain": [
       "[('Apple', 'AAPL', 64243894, Decimal('132.52'), Decimal('129.50'), Decimal('-2.30'), datetime.datetime(2022, 12, 27, 9, 31), datetime.datetime(2022, 12, 27, 4, 1), datetime.datetime(2022, 12, 27, 10, 4))]"
      ]
     },
     "execution_count": 19,
     "metadata": {},
     "output_type": "execute_result"
    }
   ],
   "source": [
    "%sql SELECT * FROM aapl_day_data_mart"
   ]
  },
  {
   "cell_type": "code",
   "execution_count": 20,
   "id": "370e0f72",
   "metadata": {},
   "outputs": [
    {
     "name": "stdout",
     "output_type": "stream",
     "text": [
      " * ibm_db_sa://spz10162:***@0c77d6f2-5da9-48a9-81f8-86b520b87518.bs2io90l08kqb1od8lcg.databases.appdomain.cloud:31198/BLUDB;security=SSL;\n",
      "Done.\n"
     ]
    },
    {
     "data": {
      "text/html": [
       "<table>\n",
       "    <tr>\n",
       "        <th>company_name</th>\n",
       "        <th>tiker</th>\n",
       "        <th>day_volume</th>\n",
       "        <th>day_open</th>\n",
       "        <th>day_close</th>\n",
       "        <th>delta_percent</th>\n",
       "        <th>max_volume_time</th>\n",
       "        <th>high_price_time</th>\n",
       "        <th>low_price_time</th>\n",
       "    </tr>\n",
       "    <tr>\n",
       "        <td>Alphabet</td>\n",
       "        <td>GOOG</td>\n",
       "        <td>13748836</td>\n",
       "        <td>90.18</td>\n",
       "        <td>87.75</td>\n",
       "        <td>-2.73</td>\n",
       "        <td>2022-12-27 09:31:00</td>\n",
       "        <td>2022-12-27 05:33:00</td>\n",
       "        <td>2022-12-27 14:43:00</td>\n",
       "    </tr>\n",
       "</table>"
      ],
      "text/plain": [
       "[('Alphabet', 'GOOG', 13748836, Decimal('90.18'), Decimal('87.75'), Decimal('-2.73'), datetime.datetime(2022, 12, 27, 9, 31), datetime.datetime(2022, 12, 27, 5, 33), datetime.datetime(2022, 12, 27, 14, 43))]"
      ]
     },
     "execution_count": 20,
     "metadata": {},
     "output_type": "execute_result"
    }
   ],
   "source": [
    "%sql SELECT * FROM goog_day_data_mart"
   ]
  }
 ],
 "metadata": {
  "kernelspec": {
   "display_name": "Python 3 (ipykernel)",
   "language": "python",
   "name": "python3"
  },
  "language_info": {
   "codemirror_mode": {
    "name": "ipython",
    "version": 3
   },
   "file_extension": ".py",
   "mimetype": "text/x-python",
   "name": "python",
   "nbconvert_exporter": "python",
   "pygments_lexer": "ipython3",
   "version": "3.9.13"
  }
 },
 "nbformat": 4,
 "nbformat_minor": 5
}
